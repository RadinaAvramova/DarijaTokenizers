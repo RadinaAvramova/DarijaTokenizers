{
 "cells": [
  {
   "cell_type": "markdown",
   "metadata": {},
   "source": [
    "## Load the sequence"
   ]
  },
  {
   "cell_type": "markdown",
   "metadata": {},
   "source": [
    "First, load the text, but only if your computer has enough memory. If not, load just a part of it.  \n",
    "\n",
    "Reading only a portion of the text helps prevent memory issues. If your computer runs out of memory, the BPE algorithm won’t work properly.  \n",
    "\n",
    "You can change the `number_of_characters_to_read` setting to make it run better on your system. If memory isn’t a problem, you don’t need to set this limit."
   ]
  },
  {
   "cell_type": "code",
   "execution_count": null,
   "metadata": {},
   "outputs": [],
   "source": [
    "# Make sure to change the path.\n",
    "with open(\"./data/sequence_of_text.txt\", \"r\") as f:\n",
    "    number_of_characters_to_read = 10_000_000\n",
    "    text_sequence = f.read(number_of_characters_to_read)\n",
    "\n",
    "len(text_sequence)"
   ]
  },
  {
   "cell_type": "markdown",
   "metadata": {},
   "source": [
    "## BPE algorithm"
   ]
  },
  {
   "cell_type": "markdown",
   "metadata": {},
   "source": [
    "I am using the [minBPE](https://github.com/karpathy/minbpe) repository to tokenize the sequence of text. Start by training the tokenizer on the text sequence that you saved in the previous notebook."
   ]
  },
  {
   "cell_type": "code",
   "execution_count": null,
   "metadata": {},
   "outputs": [],
   "source": [
    "from minbpe import RegexTokenizer\n",
    "\n",
    "tokenizer = RegexTokenizer()\n",
    "tokenizer.train(text_sequence, vocab_size=1024)"
   ]
  },
  {
   "cell_type": "markdown",
   "metadata": {},
   "source": [
    "Visualize the vocabulary."
   ]
  },
  {
   "cell_type": "code",
   "execution_count": null,
   "metadata": {},
   "outputs": [],
   "source": [
    "vocab = tokenizer.vocab\n",
    "vocab"
   ]
  },
  {
   "cell_type": "markdown",
   "metadata": {},
   "source": [
    "Test the tokenizer."
   ]
  },
  {
   "cell_type": "code",
   "execution_count": null,
   "metadata": {},
   "outputs": [],
   "source": [
    "tokens = tokenizer.encode(\"السلام لاباس؟\")\n",
    "tokens"
   ]
  },
  {
   "cell_type": "code",
   "execution_count": null,
   "metadata": {},
   "outputs": [],
   "source": [
    "tokenizer.decode(tokens)"
   ]
  },
  {
   "cell_type": "markdown",
   "metadata": {},
   "source": [
    "Add special tokens to the vocabulary. These tokens are going to be used a lot in the fine-tuning step."
   ]
  },
  {
   "cell_type": "code",
   "execution_count": 7,
   "metadata": {},
   "outputs": [],
   "source": [
    "max_vocab_id = list(tokenizer.vocab.keys())[-1]\n",
    "tokenizer.special_tokens = {\n",
    "    \"<|startoftext|>\": max_vocab_id + 1,\n",
    "    \"<|separator|>\": max_vocab_id + 2,\n",
    "    \"<|endoftext|>\": max_vocab_id + 3,\n",
    "    \"<|unk|>\": max_vocab_id + 4,\n",
    "    \"<|padding|>\": max_vocab_id + 5\n",
    "}"
   ]
  },
  {
   "cell_type": "markdown",
   "metadata": {},
   "source": [
    "Save the tokenizer"
   ]
  },
  {
   "cell_type": "code",
   "execution_count": null,
   "metadata": {},
   "outputs": [],
   "source": [
    "tokenizer.save(file_prefix=\"./output/base/darija_tokenizer\")"
   ]
  }
 ],
 "metadata": {
  "kernelspec": {
   "display_name": "vincent",
   "language": "python",
   "name": "python3"
  },
  "language_info": {
   "codemirror_mode": {
    "name": "ipython",
    "version": 3
   },
   "file_extension": ".py",
   "mimetype": "text/x-python",
   "name": "python",
   "nbconvert_exporter": "python",
   "pygments_lexer": "ipython3",
   "version": "3.11.10"
  }
 },
 "nbformat": 4,
 "nbformat_minor": 2
}
